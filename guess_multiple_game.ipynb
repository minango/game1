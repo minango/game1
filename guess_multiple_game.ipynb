{
  "nbformat": 4,
  "nbformat_minor": 0,
  "metadata": {
    "colab": {
      "provenance": [],
      "authorship_tag": "ABX9TyOL7BRLKBUUXOTDRthPvEVG",
      "include_colab_link": true
    },
    "kernelspec": {
      "name": "python3",
      "display_name": "Python 3"
    },
    "language_info": {
      "name": "python"
    }
  },
  "cells": [
    {
      "cell_type": "markdown",
      "metadata": {
        "id": "view-in-github",
        "colab_type": "text"
      },
      "source": [
        "<a href=\"https://colab.research.google.com/github/minango/game1/blob/master/guess_multiple_game.ipynb\" target=\"_parent\"><img src=\"https://colab.research.google.com/assets/colab-badge.svg\" alt=\"Open In Colab\"/></a>"
      ]
    },
    {
      "cell_type": "code",
      "source": [
        "import random\n",
        "\n",
        "n1 = random.randint(2, 20)\n",
        "n2 = random.randint(2, 20)\n",
        "n3 = random.randint(2, 20)\n",
        "print(\"=\" * 10 + \"倍数当てゲーム\" + \"=\" * 10)\n",
        "s = input(\"sで開始: \")\n",
        "if s==\"s\":\n",
        "  hit=0\n",
        "  count=0\n",
        "  while hit < 3:\n",
        "    try:\n",
        "      answer=int(input(\"数を入力してください: \"))\n",
        "    except ValueError:\n",
        "      print(\"⚠️数字を入力してください\")\n",
        "    hit=0\n",
        "    if answer % n1 == 0:\n",
        "      hit+=1\n",
        "    if answer % n2 == 0:\n",
        "      hit+=1\n",
        "    if answer % n3 == 0:\n",
        "      hit+=1\n",
        "    print(f\"{hit}ヒット！\")\n",
        "    count+=1\n",
        "print(f\"3ヒット！{count}回でクリア！！🎉\\n倍数は{n1,n2,n3}でした。\")"
      ],
      "metadata": {
        "colab": {
          "base_uri": "https://localhost:8080/"
        },
        "id": "HX90oIAGTCiL",
        "outputId": "26d1417e-dd29-45be-fc15-44ce8e96d41d"
      },
      "execution_count": 62,
      "outputs": [
        {
          "output_type": "stream",
          "name": "stdout",
          "text": [
            "==========倍数当てゲーム==========\n",
            "sで開始: s\n",
            "数を入力してください: 16\n",
            "0ヒット！\n",
            "数を入力してください: 15\n",
            "1ヒット！\n",
            "数を入力してください: 18\n",
            "0ヒット！\n",
            "数を入力してください: 7\n",
            "0ヒット！\n",
            "数を入力してください: 17\n",
            "1ヒット！\n",
            "数を入力してください: 19\n",
            "0ヒット！\n",
            "数を入力してください: 13\n",
            "0ヒット！\n",
            "数を入力してください: 10\n",
            "1ヒット！\n",
            "数を入力してください: 20\n",
            "1ヒット！\n",
            "数を入力してください: 5100\n",
            "3ヒット！\n",
            "3ヒット！10回でクリア！！🎉\n",
            "倍数は(17, 12, 5)でした。\n"
          ]
        }
      ]
    }
  ]
}