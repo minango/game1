{
  "nbformat": 4,
  "nbformat_minor": 0,
  "metadata": {
    "colab": {
      "provenance": [],
      "authorship_tag": "ABX9TyN9fUsaKz85bmIEAud70FqF",
      "include_colab_link": true
    },
    "kernelspec": {
      "name": "python3",
      "display_name": "Python 3"
    },
    "language_info": {
      "name": "python"
    }
  },
  "cells": [
    {
      "cell_type": "markdown",
      "metadata": {
        "id": "view-in-github",
        "colab_type": "text"
      },
      "source": [
        "<a href=\"https://colab.research.google.com/github/minango/game1/blob/master/calculator_Revised.ipynb\" target=\"_parent\"><img src=\"https://colab.research.google.com/assets/colab-badge.svg\" alt=\"Open In Colab\"/></a>"
      ]
    },
    {
      "cell_type": "code",
      "execution_count": null,
      "metadata": {
        "id": "1QhpoNO7eTIB"
      },
      "outputs": [],
      "source": [
        "def add(a, b):\n",
        "    return a + b\n",
        "def sub(a, b):\n",
        "    return a - b\n",
        "def multi(a, b):\n",
        "    return a * b\n",
        "def divi(a, b):\n",
        "    return a / b\n",
        "print(\"=\" * 10 + \"電卓\" + \"=\" * 10)\n",
        "while True:\n",
        "    s = input(\"計算を開始するには Enter、終了するには 'end' と入力してください：\")\n",
        "    if s.lower() == \"end\":\n",
        "        print(\"電卓を終了します。\")\n",
        "        break\n",
        "    p = input(\"＜操作＞\\na: 足し算\\ns: 引き算\\nm: 掛け算\\nd: 割り算\\n操作を入力：\")\n",
        "    if p in (\"a\", \"s\", \"m\", \"d\"):\n",
        "        try:\n",
        "            x = int(input(\"1つ目の数字を入力してください：\"))\n",
        "            y = int(input(\"2つ目の数字を入力してください：\"))\n",
        "            if p == \"a\":\n",
        "                result = add(x, y)\n",
        "            elif p == \"s\":\n",
        "                result = sub(x, y)\n",
        "            elif p == \"m\":\n",
        "                result = multi(x, y)\n",
        "            elif p == \"d\":\n",
        "                if y == 0:\n",
        "                    print(\"0 で割ることはできません。\")\n",
        "                    continue\n",
        "                result = divi(x, y)\n",
        "            print(\"結果：\", result)\n",
        "        except ValueError:\n",
        "            print(\"数字を正しく入力してください。\")\n",
        "    else:\n",
        "        print(\"操作が正しくありません。\")"
      ]
    }
  ]
}