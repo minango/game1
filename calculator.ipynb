{
  "nbformat": 4,
  "nbformat_minor": 0,
  "metadata": {
    "colab": {
      "provenance": [],
      "authorship_tag": "ABX9TyOiURYnABvQwvk0KP6Rw6Ny",
      "include_colab_link": true
    },
    "kernelspec": {
      "name": "python3",
      "display_name": "Python 3"
    },
    "language_info": {
      "name": "python"
    }
  },
  "cells": [
    {
      "cell_type": "markdown",
      "metadata": {
        "id": "view-in-github",
        "colab_type": "text"
      },
      "source": [
        "<a href=\"https://colab.research.google.com/github/minango/game1/blob/master/calculator.ipynb\" target=\"_parent\"><img src=\"https://colab.research.google.com/assets/colab-badge.svg\" alt=\"Open In Colab\"/></a>"
      ]
    },
    {
      "cell_type": "code",
      "source": [
        "def add(a,b):\n",
        "  return a+b\n",
        "def sub(a,b):\n",
        "  return a-b\n",
        "def multi(a,b):\n",
        "  return a*b\n",
        "def divi(a,b):\n",
        "  return a/b\n",
        "print(\"=\"*10+\"電卓\"+\"=\"*10)\n",
        "s=input(\"sで開始\")\n",
        "if s==s:\n",
        "  p=input(\"＜操作＞\\na:足し算\\ns:引き算\\nm:掛け算\\nd:割り算\\n操作を入力\")\n",
        "if p==\"a\":\n",
        "  x=input(\"数字を入力してください\")\n",
        "  y=input(\"数字を入力してください\")\n",
        "  int_x=int(x)\n",
        "  int_y=int(y)\n",
        "  result=add(int_x,int_y)\n",
        "  print(result)\n",
        "elif p==\"s\":\n",
        "  x=input(\"数字を入力してください\")\n",
        "  y=input(\"数字を入力してください\")\n",
        "  int_x=int(x)\n",
        "  int_y=int(y)\n",
        "  result=sub(int_x,int_y)\n",
        "  print(result)\n",
        "elif p==\"m\":\n",
        "  x=input(\"数字を入力してください\")\n",
        "  y=input(\"数字を入力してください\")\n",
        "  int_x=int(x)\n",
        "  int_y=int(y)\n",
        "  result=multi(int_x,int_y)\n",
        "  print(result)\n",
        "elif p==\"d\":\n",
        "  x=input(\"数字を入力してください\")\n",
        "  y=input(\"数字を入力してください\")\n",
        "  int_x=int(x)\n",
        "  int_y=int(y)\n",
        "  result=divi(int_x,int_y)\n",
        "  print(result)"
      ],
      "metadata": {
        "colab": {
          "base_uri": "https://localhost:8080/"
        },
        "id": "IrVmGI1sjehz",
        "outputId": "fa8febf6-88de-40b6-d336-f32b028f3b23"
      },
      "execution_count": 29,
      "outputs": [
        {
          "output_type": "stream",
          "name": "stdout",
          "text": [
            "==========電卓==========\n",
            "sで開始s\n",
            "＜操作＞\n",
            "a:足し算\n",
            "s:引き算\n",
            "m:掛け算\n",
            "d:割り算\n",
            "操作を入力d\n",
            "数字を入力してください67146238\n",
            "数字を入力してください3123\n",
            "21500.55651617035\n"
          ]
        }
      ]
    }
  ]
}