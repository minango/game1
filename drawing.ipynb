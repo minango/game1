{
  "nbformat": 4,
  "nbformat_minor": 0,
  "metadata": {
    "colab": {
      "provenance": [],
      "authorship_tag": "ABX9TyNi4/ZmovcXh6a04JH2GJPK",
      "include_colab_link": true
    },
    "kernelspec": {
      "name": "python3",
      "display_name": "Python 3"
    },
    "language_info": {
      "name": "python"
    }
  },
  "cells": [
    {
      "cell_type": "markdown",
      "metadata": {
        "id": "view-in-github",
        "colab_type": "text"
      },
      "source": [
        "<a href=\"https://colab.research.google.com/github/minango/game1/blob/master/drawing.ipynb\" target=\"_parent\"><img src=\"https://colab.research.google.com/assets/colab-badge.svg\" alt=\"Open In Colab\"/></a>"
      ]
    },
    {
      "cell_type": "code",
      "execution_count": 38,
      "metadata": {
        "colab": {
          "base_uri": "https://localhost:8080/"
        },
        "id": "3Tn21cqEokLT",
        "outputId": "f670596d-ce09-4af1-e724-4dc5e60b2330"
      },
      "outputs": [
        {
          "output_type": "stream",
          "name": "stdout",
          "text": [
            "末吉\n"
          ]
        }
      ],
      "source": [
        "import random\n",
        "drawing=random.randint(1,7)\n",
        "if drawing==1:\n",
        "  print(\"大吉\")\n",
        "elif drawing==2:\n",
        "  print(\"中吉\")\n",
        "elif drawing==3:\n",
        "  print(\"小吉\")\n",
        "elif drawing==4:\n",
        "  print(\"吉\")\n",
        "elif drawing==5:\n",
        "  print(\"末吉\")\n",
        "elif drawing==6:\n",
        "  print(\"凶\")\n",
        "else:\n",
        "  print(\"大凶\")"
      ]
    }
  ]
}