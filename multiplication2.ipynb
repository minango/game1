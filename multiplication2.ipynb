{
  "nbformat": 4,
  "nbformat_minor": 0,
  "metadata": {
    "colab": {
      "provenance": [],
      "authorship_tag": "ABX9TyPlwbU0lBDxx5dzaEFMVS4C",
      "include_colab_link": true
    },
    "kernelspec": {
      "name": "python3",
      "display_name": "Python 3"
    },
    "language_info": {
      "name": "python"
    }
  },
  "cells": [
    {
      "cell_type": "markdown",
      "metadata": {
        "id": "view-in-github",
        "colab_type": "text"
      },
      "source": [
        "<a href=\"https://colab.research.google.com/github/minango/game1/blob/master/multiplication2.ipynb\" target=\"_parent\"><img src=\"https://colab.research.google.com/assets/colab-badge.svg\" alt=\"Open In Colab\"/></a>"
      ]
    },
    {
      "cell_type": "code",
      "execution_count": null,
      "metadata": {
        "colab": {
          "base_uri": "https://localhost:8080/"
        },
        "id": "dTB_2ABm0sKU",
        "outputId": "c056c1a1-031c-426f-d3b3-24c947f9dc09"
      },
      "outputs": [
        {
          "output_type": "stream",
          "name": "stdout",
          "text": [
            "掛け算ゲーム❗️\n",
            "全部で５問\n",
            "＜sで開始＞\n"
          ]
        }
      ],
      "source": [
        "import random\n",
        "\n",
        "def 出題(レベル, a, b):\n",
        "    print(f\"問題Lv{レベル}\")\n",
        "    print(f\"{a} × {b} は？\")\n",
        "    try:\n",
        "        答え = int(input(\"答え：\"))\n",
        "        if 答え == a * b:\n",
        "            print(\"正解❗️\")\n",
        "            return 1\n",
        "        else:\n",
        "            print(\"不正解😭\")\n",
        "            return 0\n",
        "    except ValueError:\n",
        "        print(\"数字を入力してください。\")\n",
        "        return 0\n",
        "\n",
        "def 掛け算ゲーム():\n",
        "    print(\"掛け算ゲーム❗️\")\n",
        "    print(\"全部で５問\")\n",
        "    print(\"＜sで開始＞\")\n",
        "\n",
        "    if input(\"sを入力してください：\") != \"s\":\n",
        "        print(\"ゲームを終了します。\")\n",
        "        return\n",
        "\n",
        "    問題リスト = [\n",
        "        (\"1\", random.randint(1,30), random.randint(1,30)),\n",
        "        (\"2\", random.randint(10,60), random.randint(10,60)),\n",
        "        (\"3\", random.randint(50,99), random.randint(50,99)),\n",
        "        (\"4\", random.randint(80,200), random.randint(80,200)),\n",
        "        (\"Max\", random.randint(100,999), random.randint(100,999)),\n",
        "    ]\n",
        "\n",
        "    total = 0\n",
        "    for level, n1, n2 in 問題リスト:\n",
        "        if input(\"続けるならa, スキップするならeを入力：\") == \"a\":\n",
        "            total += 出題(level, n1, n2)\n",
        "        else:\n",
        "            print(\"スキップしました。\")\n",
        "\n",
        "    print(f\"終了しました。{total}問正解❗️\")\n",
        "\n",
        "\n",
        "掛け算ゲーム()"
      ]
    }
  ]
}