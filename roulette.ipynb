{
  "nbformat": 4,
  "nbformat_minor": 0,
  "metadata": {
    "colab": {
      "provenance": [],
      "authorship_tag": "ABX9TyMg2PicLDrHGsLLlNSpp0sx",
      "include_colab_link": true
    },
    "kernelspec": {
      "name": "python3",
      "display_name": "Python 3"
    },
    "language_info": {
      "name": "python"
    }
  },
  "cells": [
    {
      "cell_type": "markdown",
      "metadata": {
        "id": "view-in-github",
        "colab_type": "text"
      },
      "source": [
        "<a href=\"https://colab.research.google.com/github/minango/game1/blob/master/roulette.ipynb\" target=\"_parent\"><img src=\"https://colab.research.google.com/assets/colab-badge.svg\" alt=\"Open In Colab\"/></a>"
      ]
    },
    {
      "cell_type": "code",
      "execution_count": null,
      "metadata": {
        "colab": {
          "base_uri": "https://localhost:8080/"
        },
        "id": "EiRudieWRRMu",
        "outputId": "012918d7-5e11-48ce-ddc4-8f76a04bb5ae"
      },
      "outputs": [
        {
          "output_type": "stream",
          "name": "stdout",
          "text": [
            "sで抽選s\n",
            "ママが抽選されました。\n"
          ]
        }
      ],
      "source": [
        "import random\n",
        "while True:\n",
        "  s=input(\"sで抽選\")\n",
        "  if s==\"s\":\n",
        "    finrandom=[\"ママ\",\"パパ\",\"ミナト\",\"マナカ\"]\n",
        "    r_finrandom=random.choice(finrandom)\n",
        "    print(r_finrandom+\"が抽選されました。\")"
      ]
    }
  ]
}