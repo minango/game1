{
  "nbformat": 4,
  "nbformat_minor": 0,
  "metadata": {
    "colab": {
      "provenance": [],
      "authorship_tag": "ABX9TyM8+c477b3NGe9JAWECA0v4",
      "include_colab_link": true
    },
    "kernelspec": {
      "name": "python3",
      "display_name": "Python 3"
    },
    "language_info": {
      "name": "python"
    }
  },
  "cells": [
    {
      "cell_type": "markdown",
      "metadata": {
        "id": "view-in-github",
        "colab_type": "text"
      },
      "source": [
        "<a href=\"https://colab.research.google.com/github/minango/game1/blob/master/Rock%2C_paper%2C_scissors.ipynb\" target=\"_parent\"><img src=\"https://colab.research.google.com/assets/colab-badge.svg\" alt=\"Open In Colab\"/></a>"
      ]
    },
    {
      "cell_type": "code",
      "source": [
        "import random\n",
        "opponent_rpc=[\"グー\",\"チョキ\",\"パー\"]\n",
        "r_opponent_rpc=random.choice(opponent_rpc)\n",
        "if r_opponent_rpc==\"グー\":\n",
        "  win=\"パー\"\n",
        "elif r_opponent_rpc==\"チョキ\":\n",
        "  win=\"グー\"\n",
        "else:\n",
        "  win=\"チョキ\"\n",
        "print(\"=\"*10+\"じゃんけんゲーム❗️\"+\"=\"*10)\n",
        "print(\"             -sで開始-\")\n",
        "s=input(\"⇒⇒⇒\")\n",
        "if s==\"s\":\n",
        "  wl=input(\"何を出しますか？(カタカナで！)\")\n",
        "if win==wl:\n",
        "  print(\"We win!,相手は\"+r_opponent_rpc+\"を出しました\")\n",
        "elif r_opponent_rpc==wl:\n",
        "  print(\"Draw,相手は\"+r_opponent_rpc+\"を出しました\")\n",
        "else:\n",
        "  print(\"Lose...,相手は\"+r_opponent_rpc+\"を出しました\")"
      ],
      "metadata": {
        "colab": {
          "base_uri": "https://localhost:8080/"
        },
        "id": "z5bCkAYXAIkz",
        "outputId": "81642b21-eec6-4431-956d-473013a3f4db"
      },
      "execution_count": null,
      "outputs": [
        {
          "output_type": "stream",
          "name": "stdout",
          "text": [
            "==========じゃんけんゲーム❗️==========\n",
            "             -sで開始-\n"
          ]
        }
      ]
    },
    {
      "cell_type": "code",
      "source": [],
      "metadata": {
        "id": "HWEGGMQiEK9F"
      },
      "execution_count": null,
      "outputs": []
    }
  ]
}